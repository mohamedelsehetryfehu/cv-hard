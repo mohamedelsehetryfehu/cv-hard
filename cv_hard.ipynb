{
  "nbformat": 4,
  "nbformat_minor": 0,
  "metadata": {
    "colab": {
      "provenance": [],
      "include_colab_link": true
    },
    "kernelspec": {
      "name": "python3",
      "display_name": "Python 3"
    },
    "language_info": {
      "name": "python"
    }
  },
  "cells": [
    {
      "cell_type": "markdown",
      "metadata": {
        "id": "view-in-github",
        "colab_type": "text"
      },
      "source": [
        "<a href=\"https://colab.research.google.com/github/mohamedelsehetryfehu/cv-hard/blob/main/cv_hard.ipynb\" target=\"_parent\"><img src=\"https://colab.research.google.com/assets/colab-badge.svg\" alt=\"Open In Colab\"/></a>"
      ]
    },
    {
      "cell_type": "code",
      "source": [
        "!pip install torch torchvision torchaudio\n",
        "\n",
        "!pip install cython\n",
        "!pip install 'git+https://github.com/cocodataset/cocoapi.git#subdirectory=PythonAPI'\n",
        "!pip install git+https://github.com/facebookresearch/detectron2.git"
      ],
      "metadata": {
        "id": "eT52hXO7NYcU"
      },
      "execution_count": null,
      "outputs": []
    },
    {
      "cell_type": "code",
      "execution_count": null,
      "metadata": {
        "id": "REzXxeQILCkf"
      },
      "outputs": [],
      "source": [
        "import torch\n",
        "from detectron2 import model_zoo\n",
        "from detectron2.config import get_cfg\n",
        "from detectron2.engine import DefaultPredictor\n",
        "from detectron2.utils.visualizer import Visualizer\n",
        "from detectron2.data import MetadataCatalog\n",
        "from PIL import Image\n",
        "\n",
        "def count_objects_in_image(question, image):\n",
        "    # Load pre-trained Mask R-CNN model from Detectron2\n",
        "    cfg = get_cfg()\n",
        "    cfg.merge_from_file(model_zoo.get_config_file(\"COCO-InstanceSegmentation/mask_rcnn_R_50_FPN_3x.yaml\"))\n",
        "    cfg.MODEL.ROI_HEADS.SCORE_THRESH_TEST = 0.5  # Set threshold for detection\n",
        "    cfg.MODEL.WEIGHTS = model_zoo.get_checkpoint_url(\"COCO-InstanceSegmentation/mask_rcnn_R_50_FPN_3x.yaml\")\n",
        "    predictor = DefaultPredictor(cfg)\n",
        "\n",
        "    # Make prediction on the image\n",
        "    outputs = predictor(image)\n",
        "\n",
        "    # Count the number of detected instances\n",
        "    count = len(outputs[\"instances\"])\n",
        "\n",
        "    return count\n",
        "\n",
        "# Example usage\n",
        "question = \"How many cats are in the image?\"\n",
        "image_path = \"/content/cv_hard_sample_image.jpg\"  # Provide the path to your image\n",
        "image = Image.open(image_path)\n",
        "\n",
        "result = count_objects_in_image(question, image)\n",
        "print(\"Answer:\", result)"
      ]
    }
  ]
}